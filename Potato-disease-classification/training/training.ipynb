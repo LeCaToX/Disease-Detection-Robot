{
 "cells": [
  {
   "cell_type": "code",
   "execution_count": 1,
   "id": "e2027acc",
   "metadata": {},
   "outputs": [],
   "source": [
    "import tensorflow as tf\n",
    "from tensorflow.keras import models, layers\n",
    "import matplotlib.pyplot as plt"
   ]
  },
  {
   "cell_type": "code",
   "execution_count": 2,
   "id": "3546318f",
   "metadata": {},
   "outputs": [],
   "source": [
    "IMAGE_SIZE = 256\n",
    "BATCH_SIZE = 32\n",
    "PLANT_LIST = [\"Pepper\",\"Potato\",\"Tomato\"]\n",
    "data = {}"
   ]
  },
  {
   "cell_type": "code",
   "execution_count": 3,
   "id": "54aee543",
   "metadata": {},
   "outputs": [],
   "source": [
    "def load_dataset():\n",
    "    for plant in PLANT_LIST:\n",
    "        directory = \"PlantVillage/\" + plant \n",
    "        \n",
    "        data[plant] = tf.keras.preprocessing.image_dataset_from_directory(\n",
    "            directory, \n",
    "            shuffle = True,\n",
    "            image_size = (IMAGE_SIZE,IMAGE_SIZE),\n",
    "            batch_size = BATCH_SIZE\n",
    "        )\n",
    "        \n",
    "    return 0"
   ]
  },
  {
   "cell_type": "code",
   "execution_count": 4,
   "id": "873474d2",
   "metadata": {},
   "outputs": [
    {
     "name": "stdout",
     "output_type": "stream",
     "text": [
      "Found 2475 files belonging to 2 classes.\n",
      "Found 2152 files belonging to 3 classes.\n",
      "Found 16011 files belonging to 10 classes.\n"
     ]
    },
    {
     "data": {
      "text/plain": [
       "0"
      ]
     },
     "execution_count": 4,
     "metadata": {},
     "output_type": "execute_result"
    }
   ],
   "source": [
    "load_dataset()"
   ]
  },
  {
   "cell_type": "code",
   "execution_count": 5,
   "id": "6f591301",
   "metadata": {},
   "outputs": [
    {
     "name": "stdout",
     "output_type": "stream",
     "text": [
      "{'Pepper': ['Pepper__bell___Bacterial_spot', 'Pepper__bell___healthy'], 'Potato': ['Potato___Early_blight', 'Potato___Late_blight', 'Potato___healthy'], 'Tomato': ['Tomato_Bacterial_spot', 'Tomato_Early_blight', 'Tomato_Late_blight', 'Tomato_Leaf_Mold', 'Tomato_Septoria_leaf_spot', 'Tomato_Spider_mites_Two_spotted_spider_mite', 'Tomato__Target_Spot', 'Tomato__Tomato_YellowLeaf__Curl_Virus', 'Tomato__Tomato_mosaic_virus', 'Tomato_healthy']}\n"
     ]
    }
   ],
   "source": [
    "class_names = {}\n",
    "for plant in PLANT_LIST:\n",
    "    class_names[plant] = data[plant].class_names\n",
    "print(class_names)"
   ]
  },
  {
   "cell_type": "code",
   "execution_count": 6,
   "id": "5f52487e",
   "metadata": {},
   "outputs": [],
   "source": [
    "def dataset_partition(ds, train_split=0.8, val_split=0.1, test_split=0.1, shuffle=True, shuffle_size=10000):\n",
    "    \n",
    "    if shuffle:\n",
    "        ds = ds.shuffle(shuffle_size, seed = 12)\n",
    "    \n",
    "    train_sz = int(len(ds) * train_split)\n",
    "    val_sz = int(len(ds) * val_split)\n",
    "    \n",
    "    train_ds = ds.take(train_sz)\n",
    "    val_ds = ds.skip(train_sz).take(val_sz)\n",
    "    test_ds = ds.skip(train_sz).skip(val_sz)\n",
    "    \n",
    "    return train_ds, val_ds, test_ds"
   ]
  },
  {
   "cell_type": "code",
   "execution_count": 7,
   "id": "7fa2eefc",
   "metadata": {},
   "outputs": [],
   "source": [
    "train_ds = {}\n",
    "val_ds = {}\n",
    "test_ds = {}\n",
    "\n",
    "for plant in PLANT_LIST:\n",
    "    train_ds[plant], val_ds[plant], test_ds[plant] = dataset_partition(data[plant])"
   ]
  },
  {
   "cell_type": "code",
   "execution_count": 8,
   "id": "90171362",
   "metadata": {},
   "outputs": [],
   "source": [
    "for plant in PLANT_LIST:\n",
    "    train_ds[plant] = train_ds[plant].cache().shuffle(1000).prefetch(buffer_size=tf.data.AUTOTUNE)\n",
    "    val_ds[plant] = val_ds[plant].cache().shuffle(1000).prefetch(buffer_size=tf.data.AUTOTUNE)\n",
    "    test_ds[plant] = test_ds[plant].cache().shuffle(1000).prefetch(buffer_size=tf.data.AUTOTUNE)"
   ]
  }
 ],
 "metadata": {
  "kernelspec": {
   "display_name": "Python 3 (ipykernel)",
   "language": "python",
   "name": "python3"
  },
  "language_info": {
   "codemirror_mode": {
    "name": "ipython",
    "version": 3
   },
   "file_extension": ".py",
   "mimetype": "text/x-python",
   "name": "python",
   "nbconvert_exporter": "python",
   "pygments_lexer": "ipython3",
   "version": "3.10.4"
  }
 },
 "nbformat": 4,
 "nbformat_minor": 5
}
